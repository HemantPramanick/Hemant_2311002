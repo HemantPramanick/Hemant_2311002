{
 "cells": [
  {
   "cell_type": "code",
   "execution_count": 1,
   "metadata": {},
   "outputs": [
    {
     "name": "stderr",
     "output_type": "stream",
     "text": [
      "c:\\Users\\ADMIN\\anaconda3\\envs\\kaggle\\Lib\\site-packages\\tqdm\\auto.py:21: TqdmWarning: IProgress not found. Please update jupyter and ipywidgets. See https://ipywidgets.readthedocs.io/en/stable/user_install.html\n",
      "  from .autonotebook import tqdm as notebook_tqdm\n"
     ]
    }
   ],
   "source": [
    "import torch\n",
    "import torch.nn as nn\n",
    "import torch.optim as optim\n",
    "from torch.utils.data import DataLoader, Subset\n",
    "import torchvision.transforms as transforms\n",
    "import torchvision.models as models\n",
    "from torchvision.datasets import SVHN\n",
    "from sklearn.metrics import precision_score, recall_score, f1_score\n",
    "import csv\n"
   ]
  },
  {
   "cell_type": "code",
   "execution_count": 2,
   "metadata": {},
   "outputs": [],
   "source": [
    "# Load the SVHN dataset\n",
    "train_transform = transforms.Compose([\n",
    "    transforms.Resize((32, 32)),\n",
    "    transforms.RandomRotation(10),\n",
    "    transforms.RandomCrop(32, padding=4),\n",
    "    transforms.RandomHorizontalFlip(),\n",
    "    transforms.ToTensor(),\n",
    "    transforms.Normalize((0.5, 0.5, 0.5), (0.5, 0.5, 0.5))\n",
    "])\n"
   ]
  },
  {
   "cell_type": "code",
   "execution_count": 3,
   "metadata": {},
   "outputs": [],
   "source": [
    "test_transform = transforms.Compose([\n",
    "    transforms.Resize((32, 32)),\n",
    "    transforms.ToTensor(),\n",
    "    transforms.Normalize((0.5, 0.5, 0.5), (0.5, 0.5, 0.5))\n",
    "])"
   ]
  },
  {
   "cell_type": "code",
   "execution_count": 4,
   "metadata": {},
   "outputs": [
    {
     "name": "stdout",
     "output_type": "stream",
     "text": [
      "Downloading http://ufldl.stanford.edu/housenumbers/train_32x32.mat to ./data\\train_32x32.mat\n"
     ]
    },
    {
     "name": "stderr",
     "output_type": "stream",
     "text": [
      "100%|██████████| 182040794/182040794 [00:43<00:00, 4161145.55it/s]\n"
     ]
    },
    {
     "name": "stdout",
     "output_type": "stream",
     "text": [
      "Downloading http://ufldl.stanford.edu/housenumbers/test_32x32.mat to ./data\\test_32x32.mat\n"
     ]
    },
    {
     "name": "stderr",
     "output_type": "stream",
     "text": [
      "100%|██████████| 64275384/64275384 [00:17<00:00, 3590716.13it/s]\n"
     ]
    }
   ],
   "source": [
    "train_dataset = SVHN(root='./data', split='train', transform=train_transform, download=True)\n",
    "test_dataset = SVHN(root='./data', split='test', transform=test_transform, download=True)\n"
   ]
  },
  {
   "cell_type": "code",
   "execution_count": 5,
   "metadata": {},
   "outputs": [],
   "source": [
    "#  Dataset (25%)\n",
    "train_subset = Subset(train_dataset, range(0, len(train_dataset), 4))"
   ]
  },
  {
   "cell_type": "code",
   "execution_count": 6,
   "metadata": {},
   "outputs": [],
   "source": [
    "# Preprocess the dataset\n",
    "train_loader = DataLoader(train_subset, batch_size=64, shuffle=True)\n",
    "test_loader = DataLoader(test_dataset, batch_size=64, shuffle=False)\n"
   ]
  },
  {
   "cell_type": "code",
   "execution_count": 7,
   "metadata": {},
   "outputs": [
    {
     "name": "stderr",
     "output_type": "stream",
     "text": [
      "c:\\Users\\ADMIN\\anaconda3\\envs\\kaggle\\Lib\\site-packages\\torchvision\\models\\_utils.py:208: UserWarning: The parameter 'pretrained' is deprecated since 0.13 and may be removed in the future, please use 'weights' instead.\n",
      "  warnings.warn(\n",
      "c:\\Users\\ADMIN\\anaconda3\\envs\\kaggle\\Lib\\site-packages\\torchvision\\models\\_utils.py:223: UserWarning: Arguments other than a weight enum or `None` for 'weights' are deprecated since 0.13 and may be removed in the future. The current behavior is equivalent to passing `weights=VGG16_Weights.IMAGENET1K_V1`. You can also use `weights=VGG16_Weights.DEFAULT` to get the most up-to-date weights.\n",
      "  warnings.warn(msg)\n",
      "Downloading: \"https://download.pytorch.org/models/vgg16-397923af.pth\" to C:\\Users\\ADMIN/.cache\\torch\\hub\\checkpoints\\vgg16-397923af.pth\n",
      "100%|██████████| 528M/528M [00:33<00:00, 16.7MB/s] \n",
      "c:\\Users\\ADMIN\\anaconda3\\envs\\kaggle\\Lib\\site-packages\\torchvision\\models\\_utils.py:223: UserWarning: Arguments other than a weight enum or `None` for 'weights' are deprecated since 0.13 and may be removed in the future. The current behavior is equivalent to passing `weights=ResNet18_Weights.IMAGENET1K_V1`. You can also use `weights=ResNet18_Weights.DEFAULT` to get the most up-to-date weights.\n",
      "  warnings.warn(msg)\n",
      "Downloading: \"https://download.pytorch.org/models/resnet18-f37072fd.pth\" to C:\\Users\\ADMIN/.cache\\torch\\hub\\checkpoints\\resnet18-f37072fd.pth\n",
      "100%|██████████| 44.7M/44.7M [00:02<00:00, 16.8MB/s]\n",
      "c:\\Users\\ADMIN\\anaconda3\\envs\\kaggle\\Lib\\site-packages\\torchvision\\models\\_utils.py:223: UserWarning: Arguments other than a weight enum or `None` for 'weights' are deprecated since 0.13 and may be removed in the future. The current behavior is equivalent to passing `weights=ResNet50_Weights.IMAGENET1K_V1`. You can also use `weights=ResNet50_Weights.DEFAULT` to get the most up-to-date weights.\n",
      "  warnings.warn(msg)\n",
      "Downloading: \"https://download.pytorch.org/models/resnet50-0676ba61.pth\" to C:\\Users\\ADMIN/.cache\\torch\\hub\\checkpoints\\resnet50-0676ba61.pth\n",
      "100%|██████████| 97.8M/97.8M [00:06<00:00, 16.7MB/s]\n",
      "c:\\Users\\ADMIN\\anaconda3\\envs\\kaggle\\Lib\\site-packages\\torchvision\\models\\_utils.py:223: UserWarning: Arguments other than a weight enum or `None` for 'weights' are deprecated since 0.13 and may be removed in the future. The current behavior is equivalent to passing `weights=ResNet101_Weights.IMAGENET1K_V1`. You can also use `weights=ResNet101_Weights.DEFAULT` to get the most up-to-date weights.\n",
      "  warnings.warn(msg)\n",
      "Downloading: \"https://download.pytorch.org/models/resnet101-63fe2227.pth\" to C:\\Users\\ADMIN/.cache\\torch\\hub\\checkpoints\\resnet101-63fe2227.pth\n",
      "100%|██████████| 171M/171M [00:11<00:00, 14.9MB/s] \n"
     ]
    }
   ],
   "source": [
    "#  Choose pretrained models\n",
    "\n",
    "class LeNet5(nn.Module):\n",
    "    def __init__(self):\n",
    "        super(LeNet5, self).__init__()\n",
    "        self.conv1 = nn.Conv2d(3, 6, kernel_size=5)\n",
    "        self.conv2 = nn.Conv2d(6, 16, kernel_size=5)\n",
    "        self.fc1 = nn.Linear(16*5*5, 120)\n",
    "        self.fc2 = nn.Linear(120, 84)\n",
    "        self.fc3 = nn.Linear(84, 10)\n",
    "\n",
    "    def forward(self, x):\n",
    "        x = torch.relu(self.conv1(x))\n",
    "        x = torch.max_pool2d(x, 2)\n",
    "        x = torch.relu(self.conv2(x))\n",
    "        x = torch.max_pool2d(x, 2)\n",
    "        x = x.view(-1, 16*5*5)\n",
    "        x = torch.relu(self.fc1(x))\n",
    "        x = torch.relu(self.fc2(x))\n",
    "        x = self.fc3(x)\n",
    "        return x\n",
    "\n",
    "pretrained_models = {\n",
    "    'LeNet-5': LeNet5(),\n",
    "    'VGG-16': models.vgg16(pretrained=True),\n",
    "    'ResNet-18': models.resnet18(pretrained=True),\n",
    "    'ResNet-50': models.resnet50(pretrained=True),\n",
    "    'ResNet-101': models.resnet101(pretrained=True)\n",
    "}"
   ]
  },
  {
   "cell_type": "code",
   "execution_count": 8,
   "metadata": {},
   "outputs": [],
   "source": [
    "# Load the pretrained weights for the chosen model\n",
    "device = torch.device(\"cuda\" if torch.cuda.is_available() else \"cpu\")"
   ]
  },
  {
   "cell_type": "code",
   "execution_count": 9,
   "metadata": {},
   "outputs": [],
   "source": [
    "# Fine-tune \n",
    "num_epochs = 10\n",
    "learning_rate = 0.001"
   ]
  },
  {
   "cell_type": "code",
   "execution_count": 10,
   "metadata": {},
   "outputs": [
    {
     "name": "stdout",
     "output_type": "stream",
     "text": [
      "Model: LeNet-5, Epoch [1/10], Loss: 2.2203, Accuracy: 19.84%\n",
      "Model: LeNet-5, Epoch [2/10], Loss: 1.8584, Accuracy: 34.93%\n",
      "Model: LeNet-5, Epoch [3/10], Loss: 1.5462, Accuracy: 47.35%\n",
      "Model: LeNet-5, Epoch [4/10], Loss: 1.3636, Accuracy: 54.46%\n",
      "Model: LeNet-5, Epoch [5/10], Loss: 1.2440, Accuracy: 58.50%\n",
      "Model: LeNet-5, Epoch [6/10], Loss: 1.1559, Accuracy: 61.76%\n",
      "Model: LeNet-5, Epoch [7/10], Loss: 1.1054, Accuracy: 63.34%\n",
      "Model: LeNet-5, Epoch [8/10], Loss: 1.0431, Accuracy: 65.31%\n",
      "Model: LeNet-5, Epoch [9/10], Loss: 1.0112, Accuracy: 66.50%\n",
      "Model: LeNet-5, Epoch [10/10], Loss: 0.9677, Accuracy: 68.16%\n",
      "Training finished for LeNet-5\n",
      "Test Accuracy for LeNet-5: 75.56%\n",
      "Performance Report for LeNet-5:\n",
      "--------------------------------------------------\n",
      "Test Accuracy: 75.56%\n",
      "Precision: 0.7361\n",
      "Recall: 0.7324\n",
      "F1-score: 0.7300\n",
      "--------------------------------------------------\n",
      "\n",
      "Model: VGG-16, Epoch [1/10], Loss: 2.4441, Accuracy: 16.51%\n",
      "Model: VGG-16, Epoch [2/10], Loss: 2.2532, Accuracy: 18.84%\n",
      "Model: VGG-16, Epoch [3/10], Loss: 2.2478, Accuracy: 18.51%\n",
      "Model: VGG-16, Epoch [4/10], Loss: 2.2447, Accuracy: 18.64%\n",
      "Model: VGG-16, Epoch [5/10], Loss: 2.2447, Accuracy: 18.47%\n",
      "Model: VGG-16, Epoch [6/10], Loss: 2.2447, Accuracy: 18.71%\n",
      "Model: VGG-16, Epoch [7/10], Loss: 2.2438, Accuracy: 18.72%\n",
      "Model: VGG-16, Epoch [8/10], Loss: 2.2422, Accuracy: 18.77%\n",
      "Model: VGG-16, Epoch [9/10], Loss: 2.2418, Accuracy: 18.82%\n",
      "Model: VGG-16, Epoch [10/10], Loss: 2.2425, Accuracy: 18.83%\n",
      "Training finished for VGG-16\n",
      "Test Accuracy for VGG-16: 19.59%\n",
      "Performance Report for VGG-16:\n",
      "--------------------------------------------------\n",
      "Test Accuracy: 19.59%\n",
      "Precision: 0.0196\n",
      "Recall: 0.1000\n",
      "F1-score: 0.0328\n",
      "--------------------------------------------------\n",
      "\n"
     ]
    },
    {
     "name": "stderr",
     "output_type": "stream",
     "text": [
      "c:\\Users\\ADMIN\\anaconda3\\envs\\kaggle\\Lib\\site-packages\\sklearn\\metrics\\_classification.py:1509: UndefinedMetricWarning: Precision is ill-defined and being set to 0.0 in labels with no predicted samples. Use `zero_division` parameter to control this behavior.\n",
      "  _warn_prf(average, modifier, f\"{metric.capitalize()} is\", len(result))\n"
     ]
    },
    {
     "name": "stdout",
     "output_type": "stream",
     "text": [
      "Model: ResNet-18, Epoch [1/10], Loss: 1.9939, Accuracy: 35.50%\n",
      "Model: ResNet-18, Epoch [2/10], Loss: 1.0091, Accuracy: 66.24%\n",
      "Model: ResNet-18, Epoch [3/10], Loss: 0.7749, Accuracy: 75.32%\n",
      "Model: ResNet-18, Epoch [4/10], Loss: 0.6936, Accuracy: 77.79%\n",
      "Model: ResNet-18, Epoch [5/10], Loss: 0.6157, Accuracy: 80.31%\n",
      "Model: ResNet-18, Epoch [6/10], Loss: 0.5885, Accuracy: 81.18%\n",
      "Model: ResNet-18, Epoch [7/10], Loss: 0.5405, Accuracy: 82.71%\n",
      "Model: ResNet-18, Epoch [8/10], Loss: 0.5229, Accuracy: 83.47%\n",
      "Model: ResNet-18, Epoch [9/10], Loss: 0.5114, Accuracy: 84.05%\n",
      "Model: ResNet-18, Epoch [10/10], Loss: 0.4994, Accuracy: 84.30%\n",
      "Training finished for ResNet-18\n",
      "Test Accuracy for ResNet-18: 88.23%\n",
      "Performance Report for ResNet-18:\n",
      "--------------------------------------------------\n",
      "Test Accuracy: 88.23%\n",
      "Precision: 0.8746\n",
      "Recall: 0.8727\n",
      "F1-score: 0.8729\n",
      "--------------------------------------------------\n",
      "\n",
      "Model: ResNet-50, Epoch [1/10], Loss: 1.5710, Accuracy: 50.78%\n",
      "Model: ResNet-50, Epoch [2/10], Loss: 0.8242, Accuracy: 72.82%\n",
      "Model: ResNet-50, Epoch [3/10], Loss: 0.7814, Accuracy: 75.17%\n",
      "Model: ResNet-50, Epoch [4/10], Loss: 0.6719, Accuracy: 79.08%\n",
      "Model: ResNet-50, Epoch [5/10], Loss: 0.5862, Accuracy: 81.71%\n",
      "Model: ResNet-50, Epoch [6/10], Loss: 0.5736, Accuracy: 82.17%\n",
      "Model: ResNet-50, Epoch [7/10], Loss: 0.7103, Accuracy: 77.78%\n",
      "Model: ResNet-50, Epoch [8/10], Loss: 0.5787, Accuracy: 81.97%\n",
      "Model: ResNet-50, Epoch [9/10], Loss: 0.5295, Accuracy: 83.71%\n",
      "Model: ResNet-50, Epoch [10/10], Loss: 0.4712, Accuracy: 85.64%\n",
      "Training finished for ResNet-50\n",
      "Test Accuracy for ResNet-50: 88.50%\n",
      "Performance Report for ResNet-50:\n",
      "--------------------------------------------------\n",
      "Test Accuracy: 88.50%\n",
      "Precision: 0.8796\n",
      "Recall: 0.8726\n",
      "F1-score: 0.8745\n",
      "--------------------------------------------------\n",
      "\n",
      "Model: ResNet-101, Epoch [1/10], Loss: 1.7564, Accuracy: 46.09%\n",
      "Model: ResNet-101, Epoch [2/10], Loss: 1.2291, Accuracy: 60.40%\n",
      "Model: ResNet-101, Epoch [3/10], Loss: 0.9435, Accuracy: 70.90%\n",
      "Model: ResNet-101, Epoch [4/10], Loss: 0.9887, Accuracy: 69.93%\n",
      "Model: ResNet-101, Epoch [5/10], Loss: 0.9214, Accuracy: 70.23%\n",
      "Model: ResNet-101, Epoch [6/10], Loss: 0.8677, Accuracy: 72.75%\n",
      "Model: ResNet-101, Epoch [7/10], Loss: 1.2735, Accuracy: 58.56%\n",
      "Model: ResNet-101, Epoch [8/10], Loss: 1.0342, Accuracy: 66.69%\n",
      "Model: ResNet-101, Epoch [9/10], Loss: 0.9262, Accuracy: 69.86%\n",
      "Model: ResNet-101, Epoch [10/10], Loss: 0.6778, Accuracy: 77.89%\n",
      "Training finished for ResNet-101\n",
      "Test Accuracy for ResNet-101: 83.98%\n",
      "Performance Report for ResNet-101:\n",
      "--------------------------------------------------\n",
      "Test Accuracy: 83.98%\n",
      "Precision: 0.8310\n",
      "Recall: 0.8339\n",
      "F1-score: 0.8316\n",
      "--------------------------------------------------\n",
      "\n",
      "Output saved to model_metrics.csv\n"
     ]
    }
   ],
   "source": [
    "# Initialize CSV writer\n",
    "with open('model_metrics.csv', mode='w', newline='') as file:\n",
    "    writer = csv.writer(file)\n",
    "    writer.writerow(['Model', 'Test Accuracy', 'Precision', 'Recall', 'F1-score'])\n",
    "\n",
    "    for model_name, model in pretrained_models.items():\n",
    "        model = model.to(device)\n",
    "        optimizer = optim.Adam(model.parameters(), lr=learning_rate)\n",
    "        criterion = nn.CrossEntropyLoss()\n",
    "        \n",
    "        # Training loop with data augmentation and adjusted hyperparameters\n",
    "        model.train()  # Set model to training mode\n",
    "    \n",
    "        for epoch in range(num_epochs):\n",
    "            running_loss = 0.0\n",
    "            correct = 0\n",
    "            total = 0\n",
    "            \n",
    "            for images, labels in train_loader:\n",
    "                images, labels = images.to(device), labels.to(device)\n",
    "                \n",
    "                # Zero the parameter gradients\n",
    "                optimizer.zero_grad()\n",
    "                \n",
    "                # Forward pass\n",
    "                outputs = model(images)\n",
    "                loss = criterion(outputs, labels)\n",
    "                \n",
    "                # Backward pass and optimize\n",
    "                loss.backward()\n",
    "                optimizer.step()\n",
    "                \n",
    "                # Track the loss and accuracy\n",
    "                running_loss += loss.item() * images.size(0)\n",
    "                _, predicted = torch.max(outputs, 1)\n",
    "                total += labels.size(0)\n",
    "                correct += (predicted == labels).sum().item()\n",
    "            \n",
    "            # Print statistics every epoch\n",
    "            epoch_loss = running_loss / len(train_loader.dataset)\n",
    "            epoch_acc = correct / total * 100\n",
    "            \n",
    "            print(f\"Model: {model_name}, Epoch [{epoch + 1}/{num_epochs}], Loss: {epoch_loss:.4f}, Accuracy: {epoch_acc:.2f}%\")\n",
    "    \n",
    "        print(\"Training finished for\", model_name)\n",
    "    \n",
    "        # Evaluate the model on the test set\n",
    "        model.eval()  # Set model to evaluation mode\n",
    "        correct = 0\n",
    "        total = 0\n",
    "        predicted_labels = []\n",
    "        true_labels = []\n",
    "    \n",
    "        with torch.no_grad():\n",
    "            for images, labels in test_loader:\n",
    "                images, labels = images.to(device), labels.to(device)\n",
    "                outputs = model(images)\n",
    "                _, predicted = torch.max(outputs.data, 1)\n",
    "                total += labels.size(0)\n",
    "                correct += (predicted == labels).sum().item()\n",
    "                predicted_labels.extend(predicted.cpu().numpy())\n",
    "                true_labels.extend(labels.cpu().numpy())\n",
    "    \n",
    "        test_accuracy = correct / total * 100\n",
    "        print(f\"Test Accuracy for {model_name}: {test_accuracy:.2f}%\")\n",
    "    \n",
    "        # Calculate precision, recall, and F1-score\n",
    "        precision = precision_score(true_labels, predicted_labels, average='macro')\n",
    "        recall = recall_score(true_labels, predicted_labels, average='macro')\n",
    "        f1 = f1_score(true_labels, predicted_labels, average='macro')\n",
    "    \n",
    "        # Write to CSV\n",
    "        writer.writerow([model_name, test_accuracy, precision, recall, f1])\n",
    "    \n",
    "        # Performance report\n",
    "        print(f\"Performance Report for {model_name}:\")\n",
    "        print(\"--------------------------------------------------\")\n",
    "        print(f\"Test Accuracy: {test_accuracy:.2f}%\")\n",
    "        print(f\"Precision: {precision:.4f}\")\n",
    "        print(f\"Recall: {recall:.4f}\")\n",
    "        print(f\"F1-score: {f1:.4f}\")\n",
    "        print(\"--------------------------------------------------\")\n",
    "        print()\n",
    "\n",
    "print(\"Output saved to model_metrics.csv\")\n"
   ]
  }
 ],
 "metadata": {
  "kernelspec": {
   "display_name": "kaggle",
   "language": "python",
   "name": "python3"
  },
  "language_info": {
   "codemirror_mode": {
    "name": "ipython",
    "version": 3
   },
   "file_extension": ".py",
   "mimetype": "text/x-python",
   "name": "python",
   "nbconvert_exporter": "python",
   "pygments_lexer": "ipython3",
   "version": "3.11.5"
  }
 },
 "nbformat": 4,
 "nbformat_minor": 2
}

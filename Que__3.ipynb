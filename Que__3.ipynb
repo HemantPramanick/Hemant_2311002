{
  "nbformat": 4,
  "nbformat_minor": 0,
  "metadata": {
    "colab": {
      "provenance": []
    },
    "kernelspec": {
      "name": "python3",
      "display_name": "Python 3"
    },
    "language_info": {
      "name": "python"
    }
  },
  "cells": [
    {
      "cell_type": "code",
      "source": [
        "pip install scikeras"
      ],
      "metadata": {
        "colab": {
          "base_uri": "https://localhost:8080/"
        },
        "id": "tDEIMw87W-JE",
        "outputId": "ecd90c70-817b-429e-b105-b0f1e12b838e"
      },
      "execution_count": 2,
      "outputs": [
        {
          "output_type": "stream",
          "name": "stdout",
          "text": [
            "Collecting scikeras\n",
            "  Downloading scikeras-0.12.0-py3-none-any.whl (27 kB)\n",
            "Requirement already satisfied: packaging>=0.21 in /usr/local/lib/python3.10/dist-packages (from scikeras) (24.0)\n",
            "Requirement already satisfied: scikit-learn>=1.0.0 in /usr/local/lib/python3.10/dist-packages (from scikeras) (1.2.2)\n",
            "Requirement already satisfied: numpy>=1.17.3 in /usr/local/lib/python3.10/dist-packages (from scikit-learn>=1.0.0->scikeras) (1.25.2)\n",
            "Requirement already satisfied: scipy>=1.3.2 in /usr/local/lib/python3.10/dist-packages (from scikit-learn>=1.0.0->scikeras) (1.11.4)\n",
            "Requirement already satisfied: joblib>=1.1.1 in /usr/local/lib/python3.10/dist-packages (from scikit-learn>=1.0.0->scikeras) (1.3.2)\n",
            "Requirement already satisfied: threadpoolctl>=2.0.0 in /usr/local/lib/python3.10/dist-packages (from scikit-learn>=1.0.0->scikeras) (3.3.0)\n",
            "Installing collected packages: scikeras\n",
            "Successfully installed scikeras-0.12.0\n"
          ]
        }
      ]
    },
    {
      "cell_type": "code",
      "source": [
        "pip install keras==2.12.0"
      ],
      "metadata": {
        "colab": {
          "base_uri": "https://localhost:8080/",
          "height": 320
        },
        "id": "6bAs0VDIXAsX",
        "outputId": "a0480a94-9d03-4d40-83a4-0d9b46f41a5a"
      },
      "execution_count": 3,
      "outputs": [
        {
          "output_type": "stream",
          "name": "stdout",
          "text": [
            "Collecting keras==2.12.0\n",
            "  Downloading keras-2.12.0-py2.py3-none-any.whl (1.7 MB)\n",
            "\u001b[?25l     \u001b[90m━━━━━━━━━━━━━━━━━━━━━━━━━━━━━━━━━━━━━━━━\u001b[0m \u001b[32m0.0/1.7 MB\u001b[0m \u001b[31m?\u001b[0m eta \u001b[36m-:--:--\u001b[0m\r\u001b[2K     \u001b[91m━━━━━\u001b[0m\u001b[90m╺\u001b[0m\u001b[90m━━━━━━━━━━━━━━━━━━━━━━━━━━━━━━━━━━\u001b[0m \u001b[32m0.2/1.7 MB\u001b[0m \u001b[31m6.7 MB/s\u001b[0m eta \u001b[36m0:00:01\u001b[0m\r\u001b[2K     \u001b[91m━━━━━━━━━━━━━━━━\u001b[0m\u001b[90m╺\u001b[0m\u001b[90m━━━━━━━━━━━━━━━━━━━━━━━\u001b[0m \u001b[32m0.7/1.7 MB\u001b[0m \u001b[31m10.3 MB/s\u001b[0m eta \u001b[36m0:00:01\u001b[0m\r\u001b[2K     \u001b[91m━━━━━━━━━━━━━━━━━━━━━━━━━━━━━━\u001b[0m\u001b[90m╺\u001b[0m\u001b[90m━━━━━━━━━\u001b[0m \u001b[32m1.3/1.7 MB\u001b[0m \u001b[31m12.7 MB/s\u001b[0m eta \u001b[36m0:00:01\u001b[0m\r\u001b[2K     \u001b[91m━━━━━━━━━━━━━━━━━━━━━━━━━━━━━━━━━━━━━━━\u001b[0m\u001b[91m╸\u001b[0m \u001b[32m1.7/1.7 MB\u001b[0m \u001b[31m13.8 MB/s\u001b[0m eta \u001b[36m0:00:01\u001b[0m\r\u001b[2K     \u001b[90m━━━━━━━━━━━━━━━━━━━━━━━━━━━━━━━━━━━━━━━━\u001b[0m \u001b[32m1.7/1.7 MB\u001b[0m \u001b[31m11.8 MB/s\u001b[0m eta \u001b[36m0:00:00\u001b[0m\n",
            "\u001b[?25hInstalling collected packages: keras\n",
            "  Attempting uninstall: keras\n",
            "    Found existing installation: keras 2.15.0\n",
            "    Uninstalling keras-2.15.0:\n",
            "      Successfully uninstalled keras-2.15.0\n",
            "\u001b[31mERROR: pip's dependency resolver does not currently take into account all the packages that are installed. This behaviour is the source of the following dependency conflicts.\n",
            "tensorflow 2.15.0 requires keras<2.16,>=2.15.0, but you have keras 2.12.0 which is incompatible.\u001b[0m\u001b[31m\n",
            "\u001b[0mSuccessfully installed keras-2.12.0\n"
          ]
        },
        {
          "output_type": "display_data",
          "data": {
            "application/vnd.colab-display-data+json": {
              "pip_warning": {
                "packages": [
                  "keras"
                ]
              },
              "id": "82917857b2c04f0e97e6befa29f9a864"
            }
          },
          "metadata": {}
        }
      ]
    },
    {
      "cell_type": "code",
      "execution_count": 1,
      "metadata": {
        "id": "0thkRguTWr4t"
      },
      "outputs": [],
      "source": [
        "import tensorflow as tf\n",
        "from tensorflow.keras.datasets import cifar10\n",
        "from tensorflow.keras.models import Sequential\n",
        "from tensorflow.keras.layers import Dense, Flatten\n",
        "from sklearn.model_selection import GridSearchCV\n",
        "from keras.wrappers.scikit_learn import KerasClassifier\n",
        "import numpy as np"
      ]
    },
    {
      "cell_type": "code",
      "source": [
        "# Load CIFAR-10 dataset\n",
        "(x_train, y_train), (x_test, y_test) = cifar10.load_data()"
      ],
      "metadata": {
        "colab": {
          "base_uri": "https://localhost:8080/"
        },
        "id": "R59NPQiiXG4i",
        "outputId": "8a6cb5be-352e-4a6d-f402-ab778b2c099c"
      },
      "execution_count": 2,
      "outputs": [
        {
          "output_type": "stream",
          "name": "stdout",
          "text": [
            "Downloading data from https://www.cs.toronto.edu/~kriz/cifar-10-python.tar.gz\n",
            "170498071/170498071 [==============================] - 4s 0us/step\n"
          ]
        }
      ]
    },
    {
      "cell_type": "code",
      "source": [
        "# Normalize pixel values to the range [0, 1] and cast to float32\n",
        "x_train = x_train.astype('float32') / 255.0\n",
        "x_test = x_test.astype('float32') / 255.0"
      ],
      "metadata": {
        "id": "1sCZFKoJXOnA"
      },
      "execution_count": 3,
      "outputs": []
    },
    {
      "cell_type": "code",
      "source": [
        "# Define the neural network architecture for CIFAR-10\n",
        "def create_model(neurons_per_layer=64, activation_function='relu'):\n",
        "    model = Sequential([\n",
        "        Flatten(input_shape=(32, 32, 3)),  # Assuming RGB images\n",
        "        Dense(neurons_per_layer, activation=activation_function),\n",
        "        Dense(100, activation='softmax')  # 100 output units for 100 classes in CIFAR-10\n",
        "    ])\n",
        "    model.compile(optimizer='adam',\n",
        "                  loss=tf.keras.losses.SparseCategoricalCrossentropy(),\n",
        "                  metrics=['accuracy'])\n",
        "    return model"
      ],
      "metadata": {
        "id": "oST5olqJXQYn"
      },
      "execution_count": 4,
      "outputs": []
    },
    {
      "cell_type": "code",
      "source": [
        "# Create KerasClassifier for GridSearchCV\n",
        "model = KerasClassifier(build_fn=create_model, verbose=0)"
      ],
      "metadata": {
        "colab": {
          "base_uri": "https://localhost:8080/"
        },
        "id": "v8oMC2ElXSdW",
        "outputId": "5695175c-54ec-43ac-b627-f0d57444bb8e"
      },
      "execution_count": 5,
      "outputs": [
        {
          "output_type": "stream",
          "name": "stderr",
          "text": [
            "<ipython-input-5-f6b835687327>:2: DeprecationWarning: KerasClassifier is deprecated, use Sci-Keras (https://github.com/adriangb/scikeras) instead. See https://www.adriangb.com/scikeras/stable/migration.html for help migrating.\n",
            "  model = KerasClassifier(build_fn=create_model, verbose=0)\n"
          ]
        }
      ]
    },
    {
      "cell_type": "code",
      "source": [
        "# Define hyperparameters to tune for CIFAR-10\n",
        "param_grid = {\n",
        "    'neurons_per_layer': [64, 128, 256],\n",
        "    'activation_function': ['relu', 'tanh', 'sigmoid']\n",
        "}"
      ],
      "metadata": {
        "id": "ddi_yFFUXUXv"
      },
      "execution_count": 6,
      "outputs": []
    },
    {
      "cell_type": "code",
      "source": [
        "# Perform grid search\n",
        "grid_search = GridSearchCV(estimator=model, param_grid=param_grid, cv=3, verbose=2)\n",
        "grid_result = grid_search.fit(x_train, y_train)\n"
      ],
      "metadata": {
        "colab": {
          "base_uri": "https://localhost:8080/"
        },
        "id": "in4luGt4XWkx",
        "outputId": "35be5d62-39bc-4b8c-ee2c-5351895689c8"
      },
      "execution_count": 7,
      "outputs": [
        {
          "output_type": "stream",
          "name": "stdout",
          "text": [
            "Fitting 3 folds for each of 9 candidates, totalling 27 fits\n",
            "[CV] END .....activation_function=relu, neurons_per_layer=64; total time=   8.9s\n",
            "[CV] END .....activation_function=relu, neurons_per_layer=64; total time=   9.1s\n",
            "[CV] END .....activation_function=relu, neurons_per_layer=64; total time=   8.9s\n",
            "[CV] END ....activation_function=relu, neurons_per_layer=128; total time=  16.9s\n",
            "[CV] END ....activation_function=relu, neurons_per_layer=128; total time=  14.5s\n",
            "[CV] END ....activation_function=relu, neurons_per_layer=128; total time=  10.8s\n",
            "[CV] END ....activation_function=relu, neurons_per_layer=256; total time=  16.9s\n",
            "[CV] END ....activation_function=relu, neurons_per_layer=256; total time=  24.3s\n",
            "[CV] END ....activation_function=relu, neurons_per_layer=256; total time=  25.5s\n",
            "[CV] END .....activation_function=tanh, neurons_per_layer=64; total time=   9.5s\n",
            "[CV] END .....activation_function=tanh, neurons_per_layer=64; total time=   8.9s\n",
            "[CV] END .....activation_function=tanh, neurons_per_layer=64; total time=   7.6s\n",
            "[CV] END ....activation_function=tanh, neurons_per_layer=128; total time=  14.9s\n",
            "[CV] END ....activation_function=tanh, neurons_per_layer=128; total time=  10.0s\n",
            "[CV] END ....activation_function=tanh, neurons_per_layer=128; total time=  10.2s\n",
            "[CV] END ....activation_function=tanh, neurons_per_layer=256; total time=  17.0s\n",
            "[CV] END ....activation_function=tanh, neurons_per_layer=256; total time=  24.7s\n",
            "[CV] END ....activation_function=tanh, neurons_per_layer=256; total time=  15.5s\n",
            "[CV] END ..activation_function=sigmoid, neurons_per_layer=64; total time=   9.1s\n",
            "[CV] END ..activation_function=sigmoid, neurons_per_layer=64; total time=   8.5s\n",
            "[CV] END ..activation_function=sigmoid, neurons_per_layer=64; total time=   9.5s\n",
            "[CV] END .activation_function=sigmoid, neurons_per_layer=128; total time=  14.0s\n",
            "[CV] END .activation_function=sigmoid, neurons_per_layer=128; total time=  10.4s\n",
            "[CV] END .activation_function=sigmoid, neurons_per_layer=128; total time=  15.4s\n",
            "[CV] END .activation_function=sigmoid, neurons_per_layer=256; total time=  26.5s\n",
            "[CV] END .activation_function=sigmoid, neurons_per_layer=256; total time=  26.1s\n",
            "[CV] END .activation_function=sigmoid, neurons_per_layer=256; total time=  25.9s\n"
          ]
        }
      ]
    },
    {
      "cell_type": "code",
      "source": [
        "# Summarize results\n",
        "print(\"Overall Results:\")\n",
        "print(\"Best: %f using %s\" % (grid_result.best_score_, grid_result.best_params_))\n",
        "means = grid_result.cv_results_['mean_test_score']\n",
        "stds = grid_result.cv_results_['std_test_score']\n",
        "params = grid_result.cv_results_['params']\n",
        "for mean, stdev, param in zip(means, stds, params):\n",
        "    print(\"%f (%f) with: %r\" % (mean, stdev, param))"
      ],
      "metadata": {
        "colab": {
          "base_uri": "https://localhost:8080/"
        },
        "id": "PX6yqJmEXYph",
        "outputId": "87b46464-e255-418c-801c-f0bd5419e9f2"
      },
      "execution_count": 8,
      "outputs": [
        {
          "output_type": "stream",
          "name": "stdout",
          "text": [
            "Overall Results:\n",
            "Best: 0.352400 using {'activation_function': 'relu', 'neurons_per_layer': 128}\n",
            "0.344120 (0.011509) with: {'activation_function': 'relu', 'neurons_per_layer': 64}\n",
            "0.352400 (0.008177) with: {'activation_function': 'relu', 'neurons_per_layer': 128}\n",
            "0.350280 (0.000755) with: {'activation_function': 'relu', 'neurons_per_layer': 256}\n",
            "0.301760 (0.015706) with: {'activation_function': 'tanh', 'neurons_per_layer': 64}\n",
            "0.300740 (0.010954) with: {'activation_function': 'tanh', 'neurons_per_layer': 128}\n",
            "0.292420 (0.017267) with: {'activation_function': 'tanh', 'neurons_per_layer': 256}\n",
            "0.310200 (0.003291) with: {'activation_function': 'sigmoid', 'neurons_per_layer': 64}\n",
            "0.339260 (0.006484) with: {'activation_function': 'sigmoid', 'neurons_per_layer': 128}\n",
            "0.338740 (0.011423) with: {'activation_function': 'sigmoid', 'neurons_per_layer': 256}\n"
          ]
        }
      ]
    },
    {
      "cell_type": "code",
      "source": [
        "# Separate results for each activation function\n",
        "activation_functions = ['relu', 'tanh', 'sigmoid']\n",
        "for activation_function in activation_functions:\n",
        "    activation_results = [(mean, std, param) for mean, std, param in zip(means, stds, params) if param['activation_function'] == activation_function]\n",
        "    print(f\"\\nResults for {activation_function.capitalize()} activation:\")\n",
        "    for mean, std, param in activation_results:\n",
        "        print(\"%f (%f) with: %r\" % (mean, std, param))"
      ],
      "metadata": {
        "colab": {
          "base_uri": "https://localhost:8080/"
        },
        "id": "EuUCTt3_Xf6o",
        "outputId": "a8e87b8e-b17a-4aeb-f5c3-2103f02def56"
      },
      "execution_count": 9,
      "outputs": [
        {
          "output_type": "stream",
          "name": "stdout",
          "text": [
            "\n",
            "Results for Relu activation:\n",
            "0.344120 (0.011509) with: {'activation_function': 'relu', 'neurons_per_layer': 64}\n",
            "0.352400 (0.008177) with: {'activation_function': 'relu', 'neurons_per_layer': 128}\n",
            "0.350280 (0.000755) with: {'activation_function': 'relu', 'neurons_per_layer': 256}\n",
            "\n",
            "Results for Tanh activation:\n",
            "0.301760 (0.015706) with: {'activation_function': 'tanh', 'neurons_per_layer': 64}\n",
            "0.300740 (0.010954) with: {'activation_function': 'tanh', 'neurons_per_layer': 128}\n",
            "0.292420 (0.017267) with: {'activation_function': 'tanh', 'neurons_per_layer': 256}\n",
            "\n",
            "Results for Sigmoid activation:\n",
            "0.310200 (0.003291) with: {'activation_function': 'sigmoid', 'neurons_per_layer': 64}\n",
            "0.339260 (0.006484) with: {'activation_function': 'sigmoid', 'neurons_per_layer': 128}\n",
            "0.338740 (0.011423) with: {'activation_function': 'sigmoid', 'neurons_per_layer': 256}\n"
          ]
        }
      ]
    },
    {
      "cell_type": "code",
      "source": [
        "# Evaluate the best model\n",
        "test_acc = grid_search.score(x_test, y_test)\n",
        "print('\\nTest accuracy of the best model:', test_acc)"
      ],
      "metadata": {
        "colab": {
          "base_uri": "https://localhost:8080/"
        },
        "id": "tR0FqltbXiAA",
        "outputId": "5797b1e8-70eb-4601-fac2-3a0a3443833b"
      },
      "execution_count": 10,
      "outputs": [
        {
          "output_type": "stream",
          "name": "stdout",
          "text": [
            "\n",
            "Test accuracy of the best model: 0.3698999881744385\n"
          ]
        }
      ]
    }
  ]
}